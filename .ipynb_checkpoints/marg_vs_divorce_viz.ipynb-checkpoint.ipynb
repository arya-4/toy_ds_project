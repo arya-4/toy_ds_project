{
 "cells": [
  {
   "cell_type": "code",
   "execution_count": null,
   "id": "c2a587bc-2945-42bc-85bd-e3781d11cdba",
   "metadata": {},
   "outputs": [],
   "source": [
    "import altair as alt\n",
    "import pandas as pd\n",
    "\n",
    "should_have_bought_butter = pd.DataFrame(\n",
    "    {\n",
    "        \"margarine_consumption\": [8.2, 7, 6.5, 5.3, 5.2, 4, 4.6, 4.5, 4.2, 3.7],\n",
    "        \"maine_divorce_rate\": [5, 4.7, 4.6, 4.4, 4.3, 4.1, 4.2, 4.2, 4.2, 4.1],\n",
    "        \"year\": [2000, 2001, 2002, 2003, 2004, 2005, 2006, 2007, 2008, 2009]\n",
    "    }\n",
    ")\n",
    "\n",
    "marg_vs_time = (\n",
    "    alt.Chart(\n",
    "        should_have_bought_butter,\n",
    "        title=\"Divorce rate in Maine correlates with margarine consumption\",\n",
    "    )\n",
    "    .mark_line(color=\"blue\")\n",
    "    .encode(\n",
    "        x=alt.X(\"year\", title=\"Year\"),\n",
    "        y=alt.Y(\n",
    "            \"margarine_consumption\", title=\"Margarine consumption (lbs per capita)\", scale=alt.Scale(zero=False)\n",
    "        ),\n",
    "    )\n",
    ")\n",
    "\n",
    "divorce_rate_vs_time = (\n",
    "    alt.Chart(\n",
    "        should_have_bought_butter,\n",
    "        title=\"Divorce rate in Maine correlates with margarine consumption\",\n",
    "    )\n",
    "    .mark_line(color=\"red\")\n",
    "    .encode(\n",
    "        x=alt.X(\"year\", title=\"Year\"),\n",
    "        y=alt.Y(\n",
    "            \"maine_divorce_rate\", title=\"Divorce rate in Maine (per 1000)\", scale=alt.Scale(zero=False)\n",
    "        ),\n",
    "    )\n",
    ")\n",
    "\n",
    "marg_vs_time + divorce_rate_vs_time"
   ]
  },
  {
   "cell_type": "code",
   "execution_count": null,
   "id": "331f3f40-3eb9-4614-9c80-216e007ff604",
   "metadata": {},
   "outputs": [],
   "source": []
  }
 ],
 "metadata": {
  "kernelspec": {
   "display_name": "Python 3 (ipykernel)",
   "language": "python",
   "name": "python3"
  },
  "language_info": {
   "codemirror_mode": {
    "name": "ipython",
    "version": 3
   },
   "file_extension": ".py",
   "mimetype": "text/x-python",
   "name": "python",
   "nbconvert_exporter": "python",
   "pygments_lexer": "ipython3",
   "version": "3.10.8"
  }
 },
 "nbformat": 4,
 "nbformat_minor": 5
}
